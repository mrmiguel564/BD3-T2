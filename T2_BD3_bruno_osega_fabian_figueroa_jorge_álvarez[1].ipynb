{
  "nbformat": 4,
  "nbformat_minor": 0,
  "metadata": {
    "colab": {
      "provenance": []
    },
    "kernelspec": {
      "name": "python3",
      "display_name": "Python 3"
    },
    "language_info": {
      "name": "python"
    }
  },
  "cells": [
    {
      "cell_type": "markdown",
      "source": [
        "---\n",
        "#Descripción del Dataset\n",
        "---"
      ],
      "metadata": {
        "id": "WK2Vrva0g1Az"
      }
    },
    {
      "cell_type": "markdown",
      "source": [
        "El dataset de citas rápidas recopila información sobre la interacción y los resultados de eventos de speed dating, donde dos participantes se evalúan mutuamente para determinar su interés en continuar conociéndose. Incluye características demográficas, preferencias personales, evaluaciones durante la cita, y decisiones finales, lo que permite analizar factores que influyen en la formación de conexiones románticas. Las variables disponibles facilitan la exploración de aspectos como la importancia de la atracción física, la inteligencia, la afinidad por intereses compartidos, y cómo características demográficas impactan en la compatibilidad y en la posibilidad de un \"match\" mutuo.\n"
      ],
      "metadata": {
        "id": "WRd2DfNRr0k_"
      }
    },
    {
      "cell_type": "markdown",
      "source": [
        "#variable del dataset"
      ],
      "metadata": {
        "id": "VZrUKOmLr0jC"
      }
    },
    {
      "cell_type": "markdown",
      "source": [
        "Variable dependiente (target)\n",
        "\n",
        "  -match: Indica si hubo un match entre los participantes. → Tipo de dato: Entero (1 = Sí, 0 = No)\n",
        "\n",
        "Variables independientes (características)\n",
        "\n",
        "  -Edad: Edad del participante. → Tipo de dato: Entero\n",
        "\n",
        "  -Sexo: Género del participante. → Tipo de dato: Entero (0 = Mujer, 1 = Hombre)\n",
        "  \n",
        "  -Atracción física: Puntuación de la atracción física otorgada por el participante durante la cita. → Tipo de dato: Decimal\n",
        "  \n",
        "   -Sinceridad: Puntuación de la sinceridad percibida durante la cita. → Tipo de dato: Decimal\n",
        "   \n",
        "  -Diversión: Puntuación otorgada sobre cuán divertida fue la cita. → Tipo de dato: Decimal\n",
        "   \n",
        "  -Inteligencia: Puntuación sobre la inteligencia percibida del otro participante. → Tipo de dato: Decimal\n",
        "   \n",
        "   -Éxito: Puntuación sobre el éxito percibido del otro participante. → Tipo de dato: Decimal\n",
        "\n",
        "Puntuaciones otorgadas durante la cita\n",
        "\n",
        "  -attr: Puntuación de la atracción física otorgada por el participante. → Tipo de dato: Decimal\n",
        "    \n",
        "  -sinc: Puntuación de la sinceridad percibida durante la cita. → Tipo de dato: Decimal\n",
        "   \n",
        "  -fun: Puntuación otorgada sobre cuán divertida fue la cita. → Tipo de dato: Decimal\n",
        "    \n",
        "  -intel: Puntuación sobre la inteligencia percibida del otro participante. → Tipo de dato: Decimal\n",
        "  \n",
        "  -amb: Puntuación sobre el éxito percibido del otro participante. → Tipo de dato: Decimal\n",
        "\n",
        "Preferencias del participante\n",
        "\n",
        "  -pref_o_attr: Importancia que el participante le otorga a la atracción física. → Tipo de dato: Decimal\n",
        "  \n",
        "  -pref_o_sinc: Importancia que el participante le otorga a la sinceridad. → Tipo de dato: Decimal\n",
        "  \n",
        "  -pref_o_fun: Importancia que el participante le otorga a la diversión. → Tipo de dato: Decimal\n",
        "  \n",
        "  -pref_o_intel: Importancia que el participante le otorga a la inteligencia. → Tipo de dato: Decimal\n",
        "  \n",
        "  -pref_o_amb: Importancia que el participante le otorga al éxito. → Tipo de dato: Decimal\n",
        "\n",
        "Intereses en común\n",
        "\n",
        "   -shared_interests_o: Número de intereses en común que los participantes declararon tener. → Tipo de dato: Entero"
      ],
      "metadata": {
        "id": "msJkwPJWr0iG"
      }
    },
    {
      "cell_type": "markdown",
      "source": [
        "#Librerias"
      ],
      "metadata": {
        "id": "ItSxVSEkwMQa"
      }
    },
    {
      "cell_type": "markdown",
      "source": [
        "-import pandas as pd\n",
        "\n",
        "-import numpy as np\n",
        "\n",
        "-import matplotlib.pyplot as plt\n",
        "\n",
        "-from sklearn.model_selection import train_test_split,\n",
        "GridSearchCV, RandomizedSearchCV\n",
        "\n",
        "-from sklearn.preprocessing import OneHotEncoder,\n",
        "StandardScaler, LabelEncoder\n",
        "\n",
        "-from sklearn.metrics import (classification_report, confusion_matrix,\n",
        "                             roc_curve, auc, accuracy_score,\n",
        "                             recall_score, f1_score)\n",
        "\n",
        "-from sklearn.neighbors import KNeighborsClassifier\n",
        "\n",
        "-from sklearn.ensemble import RandomForestClassifier\n",
        "\n",
        "-from sklearn.linear_model import LogisticRegression\n",
        "\n",
        "-from sklearn.tree import DecisionTreeClassifier\n"
      ],
      "metadata": {
        "id": "0zBRmAXnwOku"
      }
    },
    {
      "cell_type": "markdown",
      "source": [
        "---\n",
        "#1.-a)Descripción utilizando métodos estadísticos\n",
        "---"
      ],
      "metadata": {
        "id": "OZW2PqsNr0YO"
      }
    },
    {
      "cell_type": "markdown",
      "source": [],
      "metadata": {
        "id": "aldq4j3OsYmk"
      }
    },
    {
      "cell_type": "code",
      "execution_count": null,
      "metadata": {
        "id": "0LybMKnUMfl_",
        "colab": {
          "base_uri": "https://localhost:8080/"
        },
        "outputId": "e113f91f-c76a-4d3f-e9d9-b98ee3408ade"
      },
      "outputs": [
        {
          "output_type": "stream",
          "name": "stdout",
          "text": [
            "id                     int64\n",
            "has_null               int64\n",
            "wave                   int64\n",
            "gender                object\n",
            "age                   object\n",
            "                       ...  \n",
            "d_guess_prob_liked    object\n",
            "met                   object\n",
            "decision               int64\n",
            "decision_o             int64\n",
            "match                  int64\n",
            "Length: 124, dtype: object\n",
            "                id    has_null         wave        d_age     samerace  \\\n",
            "count  8378.000000  8378.00000  8378.000000  8378.000000  8378.000000   \n",
            "mean   4189.500000     0.87491    11.350919     4.185605     0.395799   \n",
            "std    2418.664611     0.33084     5.995903     4.596171     0.489051   \n",
            "min       1.000000     0.00000     1.000000     0.000000     0.000000   \n",
            "25%    2095.250000     1.00000     7.000000     1.000000     0.000000   \n",
            "50%    4189.500000     1.00000    11.000000     3.000000     0.000000   \n",
            "75%    6283.750000     1.00000    15.000000     5.000000     1.000000   \n",
            "max    8378.000000     1.00000    21.000000    37.000000     1.000000   \n",
            "\n",
            "          decision   decision_o        match  \n",
            "count  8378.000000  8378.000000  8378.000000  \n",
            "mean      0.419909     0.419551     0.164717  \n",
            "std       0.493573     0.493515     0.370947  \n",
            "min       0.000000     0.000000     0.000000  \n",
            "25%       0.000000     0.000000     0.000000  \n",
            "50%       0.000000     0.000000     0.000000  \n",
            "75%       1.000000     1.000000     0.000000  \n",
            "max       1.000000     1.000000     1.000000  \n"
          ]
        },
        {
          "output_type": "stream",
          "name": "stderr",
          "text": [
            "<ipython-input-8-d9a313b5d272>:5: DtypeWarning: Columns (4,11,12,16,17,18,19,20,40,41,42,43,44,45,52,53,54,55,56,74,75,76,77,78,79,80,81,82,83,84,85,86,87,88,89,90,108,110) have mixed types. Specify dtype option on import or set low_memory=False.\n",
            "  df = pd.read_csv('/content/speeddating.csv')\n"
          ]
        }
      ],
      "source": [
        "import pandas as pd\n",
        "\n",
        "# Cargar el dataset\n",
        "from google.colab import drive\n",
        "df = pd.read_csv('/content/speeddating.csv')\n",
        "\n",
        "# Identificar los tipos de datos de cada columna\n",
        "print(df.dtypes)\n",
        "\n",
        "# Descripción estadística de variables numéricas\n",
        "print(df.describe())\n"
      ]
    },
    {
      "cell_type": "code",
      "source": [
        "# Resumen estadístico de las variables numéricas\n",
        "descriptive_stats = df.describe()\n",
        "\n",
        "# Mediana y moda solo para columnas numéricas\n",
        "medians = df.select_dtypes(include=['number']).median() #  Select only numeric columns\n",
        "modes = df.select_dtypes(include=['number']).mode().iloc[0] # Select only numeric columns\n",
        "\n",
        "\n",
        "print(f\"Medidas Descriptivas:\\n{descriptive_stats}\")\n",
        "print(f\"Medianas:\\n{medians}\")\n",
        "print(f\"Modas:\\n{modes}\")\n"
      ],
      "metadata": {
        "colab": {
          "base_uri": "https://localhost:8080/"
        },
        "id": "2xINkA-qnU8T",
        "outputId": "1f052105-3aa6-4440-e7ca-8f7fd64d2711"
      },
      "execution_count": null,
      "outputs": [
        {
          "output_type": "stream",
          "name": "stdout",
          "text": [
            "Medidas Descriptivas:\n",
            "                 id      has_null          wave         d_age      decision  \\\n",
            "count  21554.000000  21554.000000  21554.000000  21554.000000  21550.000000   \n",
            "mean    4735.683910      0.948873     12.744177      4.214299      0.419954   \n",
            "std     2162.281218      0.220263      5.292377      4.618540      0.493562   \n",
            "min        1.000000      0.000000      1.000000      0.000000      0.000000   \n",
            "25%     2989.000000      1.000000      9.000000      1.000000      0.000000   \n",
            "50%     4785.000000      1.000000     12.000000      3.000000      0.000000   \n",
            "75%     6581.750000      1.000000     17.000000      5.000000      1.000000   \n",
            "max     8378.000000      1.000000     21.000000     37.000000      1.000000   \n",
            "\n",
            "         decision_o         match  \n",
            "count  21550.000000  21550.000000  \n",
            "mean       0.419536      0.162506  \n",
            "std        0.493495      0.368923  \n",
            "min        0.000000      0.000000  \n",
            "25%        0.000000      0.000000  \n",
            "50%        0.000000      0.000000  \n",
            "75%        1.000000      0.000000  \n",
            "max        1.000000      1.000000  \n",
            "Medianas:\n",
            "id            4785.0\n",
            "has_null         1.0\n",
            "wave            12.0\n",
            "d_age            3.0\n",
            "decision         0.0\n",
            "decision_o       0.0\n",
            "match            0.0\n",
            "dtype: float64\n",
            "Modas:\n",
            "id            1789.0\n",
            "has_null         1.0\n",
            "wave            21.0\n",
            "d_age            1.0\n",
            "decision         0.0\n",
            "decision_o       0.0\n",
            "match            0.0\n",
            "Name: 0, dtype: float64\n"
          ]
        }
      ]
    },
    {
      "source": [
        "# Detección de valores atípicos usando el rango intercuartílico\n",
        "numeric_df = df.select_dtypes(include=['number'])\n",
        "\n",
        "Q1 = numeric_df.quantile(0.25)\n",
        "Q3 = numeric_df.quantile(0.75)\n",
        "IQR = Q3 - Q1\n",
        "\n",
        "# Identificar outliers, using the numeric DataFrame\n",
        "outliers = ((numeric_df < (Q1 - 1.5 * IQR)) | (numeric_df > (Q3 + 1.5 * IQR))).sum()\n",
        "print(f\"Outliers detectados por columna:\\n{outliers}\")\n"
      ],
      "cell_type": "code",
      "metadata": {
        "colab": {
          "base_uri": "https://localhost:8080/"
        },
        "id": "h0umGUVtnqiO",
        "outputId": "c5945d71-7959-48e5-8716-95868021ddfa"
      },
      "execution_count": null,
      "outputs": [
        {
          "output_type": "stream",
          "name": "stdout",
          "text": [
            "Outliers detectados por columna:\n",
            "id               0\n",
            "has_null      1048\n",
            "wave             0\n",
            "d_age          355\n",
            "samerace         0\n",
            "decision         0\n",
            "decision_o       0\n",
            "match         1380\n",
            "dtype: int64\n"
          ]
        }
      ]
    },
    {
      "cell_type": "markdown",
      "source": [
        "---\n",
        "#B) Visualizar datos\n",
        "---"
      ],
      "metadata": {
        "id": "07OnYipYqMcd"
      }
    },
    {
      "cell_type": "code",
      "source": [
        "import matplotlib.pyplot as plt\n",
        "\n",
        "# Ensure 'age' column is of numeric type before plotting\n",
        "df['age'] = pd.to_numeric(df['age'], errors='coerce') # Convert to numeric, errors to NaN\n",
        "\n",
        "# Histograma para la edad\n",
        "plt.hist(df['age'].dropna(), bins=10, alpha=0.7, color='blue')\n",
        "plt.xlabel('Edad')\n",
        "plt.ylabel('Frecuencia')\n",
        "plt.title('Distribución de la Edad')\n",
        "plt.show()"
      ],
      "metadata": {
        "colab": {
          "base_uri": "https://localhost:8080/",
          "height": 472
        },
        "id": "Wr44DY3hoDeA",
        "outputId": "a32c9f6a-34ee-42c1-ec31-2a30a43c526c"
      },
      "execution_count": null,
      "outputs": [
        {
          "output_type": "display_data",
          "data": {
            "text/plain": [
              "<Figure size 640x480 with 1 Axes>"
            ],
            "image/png": "[encoded data removed]"
          },
          "metadata": {}
        }
      ]
    },
    {
      "cell_type": "code",
      "source": [
        "import matplotlib.pyplot as plt\n",
        "import pandas as pd # Import pandas\n",
        "\n",
        "# Gráfico de caja para la atracción física\n",
        "# Convert the 'attractive' column to numeric before plotting\n",
        "df['attractive'] = pd.to_numeric(df['attractive'], errors='coerce') # Convert to numeric, errors will be NaN\n",
        "\n",
        "plt.boxplot(df['attractive'].dropna()) # Then drop NaN values\n",
        "plt.ylabel('Atracción Física')\n",
        "plt.title('Gráfico de Caja para Atracción Física')\n",
        "plt.show()\n"
      ],
      "metadata": {
        "colab": {
          "base_uri": "https://localhost:8080/",
          "height": 453
        },
        "id": "gJhrgnewoUVk",
        "outputId": "d65155c8-ad8d-4c00-8d12-0061b56f9212"
      },
      "execution_count": null,
      "outputs": [
        {
          "output_type": "display_data",
          "data": {
            "text/plain": [
              "<Figure size 640x480 with 1 Axes>"
            ],
            "image/png": "[encoded data removed]"
          },
          "metadata": {}
        }
      ]
    },
    {
      "cell_type": "code",
      "source": [
        "# Gráfico de dispersión entre la edad y el resultado del match\n",
        "plt.scatter(df['age'], df['match'], alpha=0.5)\n",
        "plt.xlabel('Edad')\n",
        "plt.ylabel('Match')\n",
        "plt.title('Relación entre Edad y Match')\n",
        "plt.show()\n"
      ],
      "metadata": {
        "colab": {
          "base_uri": "https://localhost:8080/",
          "height": 472
        },
        "id": "29G03gUJqpIB",
        "outputId": "b12cdd6c-d49a-456b-874c-831c13a319ad"
      },
      "execution_count": null,
      "outputs": [
        {
          "output_type": "display_data",
          "data": {
            "text/plain": [
              "<Figure size 640x480 with 1 Axes>"
            ],
            "image/png": "[encoded data removed]"
          },
          "metadata": {}
        }
      ]
    },
    {
      "cell_type": "markdown",
      "source": [
        "---\n",
        "#C)Exploración y limpieza de datos\n",
        "---"
      ],
      "metadata": {
        "id": "RakJAsEOqzse"
      }
    },
    {
      "cell_type": "markdown",
      "source": [],
      "metadata": {
        "id": "S6TZflru0_Do"
      }
    },
    {
      "cell_type": "code",
      "source": [
        "# Mostrar las primeras filas\n",
        "print(df.head())\n",
        "\n",
        "# Resumen estadístico inicial\n",
        "print(df.describe())\n"
      ],
      "metadata": {
        "colab": {
          "base_uri": "https://localhost:8080/"
        },
        "id": "JUiPy6EFquT3",
        "outputId": "55fb6116-6741-4c58-bd77-83af0f0345f0"
      },
      "execution_count": null,
      "outputs": [
        {
          "output_type": "stream",
          "name": "stdout",
          "text": [
            "   id  has_null  wave  gender   age age_o  d_age d_d_age  \\\n",
            "0   1         0     1  female  21.0    27      6   [4-6]   \n",
            "1   2         0     1  female  21.0    22      1   [0-1]   \n",
            "2   3         1     1  female  21.0    22      1   [0-1]   \n",
            "3   4         0     1  female  21.0    23      2   [2-3]   \n",
            "4   5         0     1  female  21.0    24      3   [2-3]   \n",
            "\n",
            "                                    race  \\\n",
            "0  Asian/Pacific Islander/Asian-American   \n",
            "1  Asian/Pacific Islander/Asian-American   \n",
            "2  Asian/Pacific Islander/Asian-American   \n",
            "3  Asian/Pacific Islander/Asian-American   \n",
            "4  Asian/Pacific Islander/Asian-American   \n",
            "\n",
            "                                  race_o  ...  \\\n",
            "0            European/Caucasian-American  ...   \n",
            "1            European/Caucasian-American  ...   \n",
            "2  Asian/Pacific Islander/Asian-American  ...   \n",
            "3            European/Caucasian-American  ...   \n",
            "4               Latino/Hispanic American  ...   \n",
            "\n",
            "   d_expected_num_interested_in_me d_expected_num_matches like  \\\n",
            "0                            [0-3]                  [3-5]    7   \n",
            "1                            [0-3]                  [3-5]    7   \n",
            "2                            [0-3]                  [3-5]    7   \n",
            "3                            [0-3]                  [3-5]    7   \n",
            "4                            [0-3]                  [3-5]    6   \n",
            "\n",
            "  guess_prob_liked d_like d_guess_prob_liked met decision decision_o match  \n",
            "0                6  [6-8]              [5-6]   0        1          0     0  \n",
            "1                5  [6-8]              [5-6]   1        1          0     0  \n",
            "2                ?  [6-8]              [0-4]   1        1          1     1  \n",
            "3                6  [6-8]              [5-6]   0        1          1     1  \n",
            "4                6  [6-8]              [5-6]   0        1          1     1  \n",
            "\n",
            "[5 rows x 124 columns]\n",
            "                id    has_null         wave          age        d_age  \\\n",
            "count  8378.000000  8378.00000  8378.000000  8283.000000  8378.000000   \n",
            "mean   4189.500000     0.87491    11.350919    26.358928     4.185605   \n",
            "std    2418.664611     0.33084     5.995903     3.566763     4.596171   \n",
            "min       1.000000     0.00000     1.000000    18.000000     0.000000   \n",
            "25%    2095.250000     1.00000     7.000000    24.000000     1.000000   \n",
            "50%    4189.500000     1.00000    11.000000    26.000000     3.000000   \n",
            "75%    6283.750000     1.00000    15.000000    28.000000     5.000000   \n",
            "max    8378.000000     1.00000    21.000000    55.000000    37.000000   \n",
            "\n",
            "          samerace   attractive     decision   decision_o        match  \n",
            "count  8378.000000  8273.000000  8378.000000  8378.000000  8378.000000  \n",
            "mean      0.395799     7.084733     0.419909     0.419551     0.164717  \n",
            "std       0.489051     1.395783     0.493573     0.493515     0.370947  \n",
            "min       0.000000     2.000000     0.000000     0.000000     0.000000  \n",
            "25%       0.000000     6.000000     0.000000     0.000000     0.000000  \n",
            "50%       0.000000     7.000000     0.000000     0.000000     0.000000  \n",
            "75%       1.000000     8.000000     1.000000     1.000000     0.000000  \n",
            "max       1.000000    10.000000     1.000000     1.000000     1.000000  \n"
          ]
        }
      ]
    },
    {
      "cell_type": "code",
      "source": [
        "# Verificar valores nulos\n",
        "print(df.isnull().sum())\n"
      ],
      "metadata": {
        "colab": {
          "base_uri": "https://localhost:8080/"
        },
        "id": "tylaUlp1rYKi",
        "outputId": "566e1d96-de5a-4790-fc6b-81653d943aaf"
      },
      "execution_count": null,
      "outputs": [
        {
          "output_type": "stream",
          "name": "stdout",
          "text": [
            "id                    0\n",
            "has_null              0\n",
            "wave                  0\n",
            "gender                0\n",
            "age                   0\n",
            "                     ..\n",
            "d_guess_prob_liked    1\n",
            "met                   1\n",
            "decision              1\n",
            "decision_o            1\n",
            "match                 1\n",
            "Length: 124, dtype: int64\n"
          ]
        }
      ]
    },
    {
      "source": [
        "# Revisar la distribución de clases antes de la limpieza\n",
        "print(\"Distribución de clases antes de la limpieza:\")\n",
        "print(df['match'].value_counts())\n",
        "\n",
        "# Eliminar filas con valores nulos\n",
        "df_clean = df.dropna()\n",
        "\n",
        "# Calcular Q1, Q3 e IQR para cada columna numérica\n",
        "numeric_cols = df_clean.select_dtypes(include=['number']).columns\n",
        "Q1 = df_clean[numeric_cols].quantile(0.25)\n",
        "Q3 = df_clean[numeric_cols].quantile(0.75)\n",
        "IQR = Q3 - Q1\n",
        "\n",
        "# Filtrar outliers extremos solo en la clase mayoritaria (match = 0)\n",
        "for col in numeric_cols:\n",
        "    if pd.api.types.is_numeric_dtype(df_clean[col]):  # Solo aplicar a columnas numéricas\n",
        "        # Aplicar eliminación de outliers solo para la clase 0 (no match)\n",
        "        df_clean = df_clean[~((df_clean['match'] == 0) &\n",
        "                             ((df_clean[col] < (Q1[col] - 1.5 * IQR[col])) |\n",
        "                              (df_clean[col] > (Q3[col] + 1.5 * IQR[col]))))]\n",
        "\n",
        "# Recalcular las métricas estadísticas después de la limpieza\n",
        "new_stats = df_clean.describe()\n",
        "print(f\"Medidas Descriptivas del Conjunto Limpio:\\n{new_stats}\")\n",
        "\n",
        "# Revisar la distribución de clases después de la limpieza\n",
        "print(\"Distribución de clases después de la limpieza:\")\n",
        "print(df_clean['match'].value_counts())\n"
      ],
      "cell_type": "code",
      "metadata": {
        "colab": {
          "base_uri": "https://localhost:8080/"
        },
        "id": "_L89emDUrJl1",
        "outputId": "8e3abb5f-a78d-4f19-ab3a-95d2109f4b0f"
      },
      "execution_count": null,
      "outputs": [
        {
          "output_type": "stream",
          "name": "stdout",
          "text": [
            "Distribución de clases antes de la limpieza:\n",
            "match\n",
            "0    6998\n",
            "1    1380\n",
            "Name: count, dtype: int64\n",
            "Medidas Descriptivas del Conjunto Limpio:\n",
            "                id     has_null         wave          age        d_age  \\\n",
            "count  7064.000000  7064.000000  7064.000000  7064.000000  7064.000000   \n",
            "mean   4600.484711     0.973669    12.402888    26.297707     3.510476   \n",
            "std    2246.249877     0.160128     5.523525     3.160820     2.843286   \n",
            "min       3.000000     0.000000     1.000000    18.000000     0.000000   \n",
            "25%    2802.750000     1.000000     9.000000    24.000000     1.000000   \n",
            "50%    4612.500000     1.000000    12.000000    26.000000     3.000000   \n",
            "75%    6538.250000     1.000000    17.000000    28.000000     5.000000   \n",
            "max    8378.000000     1.000000    21.000000    42.000000    34.000000   \n",
            "\n",
            "          samerace   attractive     decision   decision_o        match  \n",
            "count  7064.000000  7064.000000  7064.000000  7064.000000  7064.000000  \n",
            "mean      0.394253     7.118913     0.436014     0.439411     0.190685  \n",
            "std       0.488724     1.375444     0.495924     0.496351     0.392869  \n",
            "min       0.000000     3.000000     0.000000     0.000000     0.000000  \n",
            "25%       0.000000     6.000000     0.000000     0.000000     0.000000  \n",
            "50%       0.000000     7.000000     0.000000     0.000000     0.000000  \n",
            "75%       1.000000     8.000000     1.000000     1.000000     0.000000  \n",
            "max       1.000000    10.000000     1.000000     1.000000     1.000000  \n",
            "Distribución de clases después de la limpieza:\n",
            "match\n",
            "0    5717\n",
            "1    1347\n",
            "Name: count, dtype: int64\n"
          ]
        }
      ]
    },
    {
      "cell_type": "markdown",
      "source": [
        "---\n",
        "#Clasificación y análisis.\n",
        "---"
      ],
      "metadata": {
        "id": "IgE3W5YSu3Xl"
      }
    },
    {
      "cell_type": "markdown",
      "source": [
        "## a) Aplicación de algoritmos de clasificación: Los tres algoritmos a usar son: K-Nearest Neighbors (KNN), Random Forest y LogisticRegression."
      ],
      "metadata": {
        "id": "fvOZpRXYu8KV"
      }
    },
    {
      "cell_type": "code",
      "source": [
        "from google.colab import drive\n",
        "drive.mount('/content/drive')"
      ],
      "metadata": {
        "colab": {
          "base_uri": "https://localhost:8080/"
        },
        "id": "nqcfrbNPoZ4N",
        "outputId": "67383175-a7aa-4655-864a-cc157a20a855"
      },
      "execution_count": null,
      "outputs": [
        {
          "output_type": "stream",
          "name": "stdout",
          "text": [
            "Drive already mounted at /content/drive; to attempt to forcibly remount, call drive.mount(\"/content/drive\", force_remount=True).\n"
          ]
        }
      ]
    },
    {
      "cell_type": "markdown",
      "source": [
        "### K-Nearest Neighbors:"
      ],
      "metadata": {
        "id": "MST2OLyCvAWE"
      }
    },
    {
      "cell_type": "code",
      "source": [
        "from sklearn.model_selection import train_test_split\n",
        "from sklearn.neighbors import KNeighborsClassifier\n",
        "from sklearn.metrics import classification_report, confusion_matrix\n",
        "\n",
        "# Usar los nombres de las columnas correctos\n",
        "X = df_clean[['age', 'attractive', 'funny', 'intelligence']]  # Variables independientes\n",
        "y = df_clean['match']  # Variable dependiente\n",
        "\n",
        "# Dividir en conjunto de entrenamiento y prueba\n",
        "X_train, X_test, y_train, y_test = train_test_split(X, y, test_size=0.3, random_state=42)\n",
        "\n",
        "# Crear y entrenar el modelo KNN\n",
        "knn = KNeighborsClassifier(n_neighbors=5)\n",
        "knn.fit(X_train, y_train)\n",
        "\n",
        "# Predicciones\n",
        "y_pred = knn.predict(X_test)\n",
        "\n",
        "# Evaluación del modelo\n",
        "print(confusion_matrix(y_test, y_pred))\n",
        "print(classification_report(y_test, y_pred))"
      ],
      "metadata": {
        "colab": {
          "base_uri": "https://localhost:8080/"
        },
        "id": "pN0K9wODvEWw",
        "outputId": "102fd6c7-63f6-4ec3-e8b4-0a21c515f27f"
      },
      "execution_count": null,
      "outputs": [
        {
          "output_type": "stream",
          "name": "stdout",
          "text": [
            "[[1606  107]\n",
            " [ 348   59]]\n",
            "              precision    recall  f1-score   support\n",
            "\n",
            "           0       0.82      0.94      0.88      1713\n",
            "           1       0.36      0.14      0.21       407\n",
            "\n",
            "    accuracy                           0.79      2120\n",
            "   macro avg       0.59      0.54      0.54      2120\n",
            "weighted avg       0.73      0.79      0.75      2120\n",
            "\n"
          ]
        }
      ]
    },
    {
      "cell_type": "markdown",
      "source": [
        "###  Random Forest:"
      ],
      "metadata": {
        "id": "Fm051l8xvIY3"
      }
    },
    {
      "cell_type": "code",
      "source": [
        "from sklearn.ensemble import RandomForestClassifier\n",
        "\n",
        "# Crear y entrenar el modelo Random Forest\n",
        "rf = RandomForestClassifier(n_estimators=100, random_state=42)\n",
        "rf.fit(X_train, y_train)\n",
        "\n",
        "# Realizar predicciones\n",
        "y_pred_rf = rf.predict(X_test)\n",
        "\n",
        "# Evaluar el modelo\n",
        "print(\"Random Forest:\")\n",
        "print(confusion_matrix(y_test, y_pred_rf))\n",
        "print(classification_report(y_test, y_pred_rf))\n"
      ],
      "metadata": {
        "colab": {
          "base_uri": "https://localhost:8080/"
        },
        "id": "r0JheD3svMHM",
        "outputId": "96f464a0-340f-4165-e0ea-0312d6ca01ea"
      },
      "execution_count": null,
      "outputs": [
        {
          "output_type": "stream",
          "name": "stdout",
          "text": [
            "Random Forest:\n",
            "[[1664   49]\n",
            " [ 350   57]]\n",
            "              precision    recall  f1-score   support\n",
            "\n",
            "           0       0.83      0.97      0.89      1713\n",
            "           1       0.54      0.14      0.22       407\n",
            "\n",
            "    accuracy                           0.81      2120\n",
            "   macro avg       0.68      0.56      0.56      2120\n",
            "weighted avg       0.77      0.81      0.76      2120\n",
            "\n"
          ]
        }
      ]
    },
    {
      "cell_type": "markdown",
      "source": [
        "###  LogisticRegression:"
      ],
      "metadata": {
        "id": "6gD4oSmBvO-b"
      }
    },
    {
      "cell_type": "code",
      "source": [
        "from sklearn.linear_model import LogisticRegression\n",
        "\n",
        "# Crear y entrenar el modelo de Regresión Logística\n",
        "lr = LogisticRegression(max_iter=1000)\n",
        "lr.fit(X_train, y_train)\n",
        "\n",
        "# Realizar predicciones\n",
        "y_pred_lr = lr.predict(X_test)\n",
        "\n",
        "# Evaluar el modelo\n",
        "print(\"Regresión Logística:\")\n",
        "print(confusion_matrix(y_test, y_pred_lr))\n",
        "print(classification_report(y_test, y_pred_lr))"
      ],
      "metadata": {
        "colab": {
          "base_uri": "https://localhost:8080/"
        },
        "id": "OEzOeBkhvS51",
        "outputId": "7693a6ec-6e74-4200-f437-530625cc86d3"
      },
      "execution_count": null,
      "outputs": [
        {
          "output_type": "stream",
          "name": "stdout",
          "text": [
            "Regresión Logística:\n",
            "[[2017   89]\n",
            " [ 139  269]]\n",
            "              precision    recall  f1-score   support\n",
            "\n",
            "           0       0.94      0.96      0.95      2106\n",
            "           1       0.75      0.66      0.70       408\n",
            "\n",
            "    accuracy                           0.91      2514\n",
            "   macro avg       0.84      0.81      0.82      2514\n",
            "weighted avg       0.91      0.91      0.91      2514\n",
            "\n"
          ]
        },
        {
          "output_type": "stream",
          "name": "stderr",
          "text": [
            "/usr/local/lib/python3.10/dist-packages/sklearn/linear_model/_logistic.py:469: ConvergenceWarning: lbfgs failed to converge (status=1):\n",
            "STOP: TOTAL NO. of ITERATIONS REACHED LIMIT.\n",
            "\n",
            "Increase the number of iterations (max_iter) or scale the data as shown in:\n",
            "    https://scikit-learn.org/stable/modules/preprocessing.html\n",
            "Please also refer to the documentation for alternative solver options:\n",
            "    https://scikit-learn.org/stable/modules/linear_model.html#logistic-regression\n",
            "  n_iter_i = _check_optimize_result(\n"
          ]
        }
      ]
    },
    {
      "cell_type": "markdown",
      "source": [
        "#b) Selección de modelos óptimos"
      ],
      "metadata": {
        "id": "2DPGKo5I1CK0"
      }
    },
    {
      "cell_type": "code",
      "source": [
        "import pandas as pd\n",
        "import numpy as np\n",
        "import matplotlib.pyplot as plt\n",
        "from sklearn.model_selection import train_test_split\n",
        "from sklearn.ensemble import RandomForestClassifier\n",
        "from sklearn.linear_model import LogisticRegression\n",
        "from sklearn.metrics import roc_curve, auc\n",
        "from sklearn.preprocessing import OneHotEncoder\n",
        "\n",
        "\n",
        "url = '/content/speeddating.csv'\n",
        "data = pd.read_csv(url, low_memory=False)\n",
        "\n",
        "\n",
        "data.dropna(inplace=True)\n",
        "\n",
        "\n",
        "cat_cols = data.select_dtypes(include=['object']).columns  # Selecciona columnas categóricas\n",
        "encoder = OneHotEncoder(sparse_output=False)\n",
        "encoded_features = encoder.fit_transform(data[cat_cols])\n",
        "\n",
        "\n",
        "encoded_df = pd.DataFrame(encoded_features, columns=encoder.get_feature_names_out(cat_cols))\n",
        "\n",
        "\n",
        "data = pd.concat([data.reset_index(drop=True), encoded_df.reset_index(drop=True)], axis=1)\n",
        "data.drop(cat_cols, axis=1, inplace=True)  # Eliminar columnas categóricas originales\n",
        "\n",
        "\n",
        "X = data.drop('match', axis=1)\n",
        "y = data['match']\n",
        "\n",
        "\n",
        "X_train, X_test, y_train, y_test = train_test_split(X, y, test_size=0.3, random_state=42)\n",
        "\n",
        "\n",
        "models = {\n",
        "    'Logistic Regression': LogisticRegression(max_iter=1000),\n",
        "    'Random Forest': RandomForestClassifier()\n",
        "}\n",
        "\n",
        "plt.figure(figsize=(10, 8))\n",
        "\n",
        "for model_name, model in models.items():\n",
        "    model.fit(X_train, y_train)\n",
        "    y_score = model.predict_proba(X_test)[:, 1]\n",
        "\n",
        "    fpr, tpr, _ = roc_curve(y_test, y_score)\n",
        "    roc_auc = auc(fpr, tpr)\n",
        "\n",
        "    plt.plot(fpr, tpr, label=f'{model_name} (AUC = {roc_auc:.2f})')\n",
        "\n",
        "plt.plot([0, 1], [0, 1], 'k--')\n",
        "plt.xlim([0.0, 1.0])\n",
        "plt.ylim([0.0, 1.05])\n",
        "plt.xlabel('Tasa de Falsos Positivos')\n",
        "plt.ylabel('Tasa de Verdaderos Positivos')\n",
        "plt.title('Curva ROC')\n",
        "plt.legend(loc='lower right')\n",
        "plt.show()"
      ],
      "metadata": {
        "colab": {
          "base_uri": "https://localhost:8080/",
          "height": 881
        },
        "id": "hvV79cf02AvN",
        "outputId": "923d5d76-5e3f-4ee0-e885-6fd43b9261e8"
      },
      "execution_count": null,
      "outputs": [
        {
          "output_type": "stream",
          "name": "stderr",
          "text": [
            "/usr/local/lib/python3.10/dist-packages/sklearn/linear_model/_logistic.py:469: ConvergenceWarning: lbfgs failed to converge (status=1):\n",
            "STOP: TOTAL NO. of ITERATIONS REACHED LIMIT.\n",
            "\n",
            "Increase the number of iterations (max_iter) or scale the data as shown in:\n",
            "    https://scikit-learn.org/stable/modules/preprocessing.html\n",
            "Please also refer to the documentation for alternative solver options:\n",
            "    https://scikit-learn.org/stable/modules/linear_model.html#logistic-regression\n",
            "  n_iter_i = _check_optimize_result(\n"
          ]
        },
        {
          "output_type": "display_data",
          "data": {
            "text/plain": [
              "<Figure size 1000x800 with 1 Axes>"
            ],
            "image/png": "[encoded data removed]"
          },
          "metadata": {}
        }
      ]
    },
    {
      "cell_type": "markdown",
      "source": [
        "# c) Ajuste de hiperparámetros"
      ],
      "metadata": {
        "id": "d5Rud-291RFF"
      }
    },
    {
      "cell_type": "code",
      "source": [
        "# Paso 1: Importar bibliotecas necesarias\n",
        "from sklearn.model_selection import GridSearchCV, RandomizedSearchCV\n",
        "from sklearn.ensemble import RandomForestClassifier\n",
        "from sklearn.linear_model import LogisticRegression\n",
        "from sklearn.metrics import classification_report\n",
        "\n",
        "# Paso 2: Definir espacio de búsqueda de hiperparámetros\n",
        "\n",
        "# Hiperparámetros para Logistic Regression\n",
        "logistic_params = {\n",
        "    'C': [0.01, 0.1, 1, 10, 100],\n",
        "    'penalty': ['l1', 'l2'],\n",
        "    'solver': ['liblinear']  # 'liblinear' es compatible con 'l1'\n",
        "}\n",
        "\n",
        "# Hiperparámetros para Random Forest\n",
        "rf_params = {\n",
        "    'n_estimators': [50, 100, 200],\n",
        "    'max_depth': [None, 10, 20, 30],\n",
        "    'min_samples_split': [2, 5, 10],\n",
        "    'min_samples_leaf': [1, 2, 4]\n",
        "}\n",
        "\n",
        "# Paso 3: Ajuste de hiperparámetros usando GridSearchCV\n",
        "# Logistic Regression\n",
        "logistic_grid = GridSearchCV(LogisticRegression(max_iter=1000), logistic_params, cv=5, scoring='accuracy')\n",
        "logistic_grid.fit(X_train, y_train)\n",
        "\n",
        "# Random Forest\n",
        "rf_grid = GridSearchCV(RandomForestClassifier(), rf_params, cv=5, scoring='accuracy')\n",
        "rf_grid.fit(X_train, y_train)\n",
        "\n",
        "# Paso 4: Ajuste de hiperparámetros usando RandomizedSearchCV\n",
        "# Logistic Regression\n",
        "logistic_random = RandomizedSearchCV(LogisticRegression(max_iter=1000), logistic_params, n_iter=10, cv=5, scoring='accuracy')\n",
        "logistic_random.fit(X_train, y_train)\n",
        "\n",
        "# Random Forest\n",
        "rf_random = RandomizedSearchCV(RandomForestClassifier(), rf_params, n_iter=10, cv=5, scoring='accuracy')\n",
        "rf_random.fit(X_train, y_train)\n",
        "\n",
        "# Paso 5: Evaluar el rendimiento de los modelos ajustados\n",
        "print(\"Mejores hiperparámetros - Logistic Regression (Grid Search):\", logistic_grid.best_params_)\n",
        "print(\"Mejor AUC - Logistic Regression (Grid Search):\", logistic_grid.best_score_)\n",
        "\n",
        "print(\"Mejores hiperparámetros - Random Forest (Grid Search):\", rf_grid.best_params_)\n",
        "print(\"Mejor AUC - Random Forest (Grid Search):\", rf_grid.best_score_)\n",
        "\n",
        "print(\"Mejores hiperparámetros - Logistic Regression (Random Search):\", logistic_random.best_params_)\n",
        "print(\"Mejor AUC - Logistic Regression (Random Search):\", logistic_random.best_score_)\n",
        "\n",
        "print(\"Mejores hiperparámetros - Random Forest (Random Search):\", rf_random.best_params_)\n",
        "print(\"Mejor AUC - Random Forest (Random Search):\", rf_random.best_score_)\n",
        "\n",
        "# Evaluar el rendimiento en el conjunto de prueba\n",
        "for model, name in zip([logistic_grid, rf_grid, logistic_random, rf_random],\n",
        "                       ['Logistic Regression (Grid)', 'Random Forest (Grid)',\n",
        "                        'Logistic Regression (Random)', 'Random Forest (Random)']):\n",
        "    y_pred = model.predict(X_test)\n",
        "    print(f\"\\nClasificación Reporte para {name}:\\n\", classification_report(y_test, y_pred))"
      ],
      "metadata": {
        "id": "_tXfta851ScU",
        "colab": {
          "base_uri": "https://localhost:8080/"
        },
        "outputId": "f9da6c14-cd9e-4084-9aed-f6bffa8c8cd3"
      },
      "execution_count": null,
      "outputs": [
        {
          "output_type": "stream",
          "name": "stdout",
          "text": [
            "Mejores hiperparámetros - Logistic Regression (Grid Search): {'C': 1, 'penalty': 'l1', 'solver': 'liblinear'}\n",
            "Mejor AUC - Logistic Regression (Grid Search): 1.0\n",
            "Mejores hiperparámetros - Random Forest (Grid Search): {'max_depth': 20, 'min_samples_leaf': 1, 'min_samples_split': 5, 'n_estimators': 200}\n",
            "Mejor AUC - Random Forest (Grid Search): 0.9945427406754362\n",
            "Mejores hiperparámetros - Logistic Regression (Random Search): {'solver': 'liblinear', 'penalty': 'l1', 'C': 1}\n",
            "Mejor AUC - Logistic Regression (Random Search): 1.0\n",
            "Mejores hiperparámetros - Random Forest (Random Search): {'n_estimators': 200, 'min_samples_split': 10, 'min_samples_leaf': 1, 'max_depth': None}\n",
            "Mejor AUC - Random Forest (Random Search): 0.9918152748560471\n",
            "\n",
            "Clasificación Reporte para Logistic Regression (Grid):\n",
            "               precision    recall  f1-score   support\n",
            "\n",
            "           0       1.00      1.00      1.00      2106\n",
            "           1       1.00      1.00      1.00       408\n",
            "\n",
            "    accuracy                           1.00      2514\n",
            "   macro avg       1.00      1.00      1.00      2514\n",
            "weighted avg       1.00      1.00      1.00      2514\n",
            "\n",
            "\n",
            "Clasificación Reporte para Random Forest (Grid):\n",
            "               precision    recall  f1-score   support\n",
            "\n",
            "           0       0.99      1.00      1.00      2106\n",
            "           1       1.00      0.96      0.98       408\n",
            "\n",
            "    accuracy                           0.99      2514\n",
            "   macro avg       1.00      0.98      0.99      2514\n",
            "weighted avg       0.99      0.99      0.99      2514\n",
            "\n",
            "\n",
            "Clasificación Reporte para Logistic Regression (Random):\n",
            "               precision    recall  f1-score   support\n",
            "\n",
            "           0       1.00      1.00      1.00      2106\n",
            "           1       1.00      1.00      1.00       408\n",
            "\n",
            "    accuracy                           1.00      2514\n",
            "   macro avg       1.00      1.00      1.00      2514\n",
            "weighted avg       1.00      1.00      1.00      2514\n",
            "\n",
            "\n",
            "Clasificación Reporte para Random Forest (Random):\n",
            "               precision    recall  f1-score   support\n",
            "\n",
            "           0       0.99      1.00      1.00      2106\n",
            "           1       1.00      0.97      0.99       408\n",
            "\n",
            "    accuracy                           1.00      2514\n",
            "   macro avg       1.00      0.99      0.99      2514\n",
            "weighted avg       1.00      1.00      1.00      2514\n",
            "\n"
          ]
        }
      ]
    },
    {
      "cell_type": "markdown",
      "source": [
        "#d) Entrenamiento y validación de modelos"
      ],
      "metadata": {
        "id": "1CzDIqw69VgW"
      }
    },
    {
      "cell_type": "markdown",
      "source": [],
      "metadata": {
        "id": "gfIIkxiTvBFm"
      }
    },
    {
      "cell_type": "code",
      "source": [
        "import pandas as pd\n",
        "from sklearn.model_selection import train_test_split\n",
        "from sklearn.preprocessing import StandardScaler\n",
        "from sklearn.metrics import classification_report, confusion_matrix, roc_curve, auc\n",
        "from sklearn.linear_model import LogisticRegression\n",
        "from sklearn.tree import DecisionTreeClassifier\n",
        "from sklearn.ensemble import RandomForestClassifier\n",
        "import matplotlib.pyplot as plt\n",
        "\n",
        "# Separar las características (X) y la variable objetivo (y)\n",
        "X = df.drop(columns=['match'])  # La columna 'match' es la variable objetivo\n",
        "y = df['match']\n"
      ],
      "metadata": {
        "id": "jJWlz3WZ_efY"
      },
      "execution_count": null,
      "outputs": []
    },
    {
      "cell_type": "code",
      "source": [
        "X_train, X_test, y_train, y_test = train_test_split(X, y, test_size=0.2, random_state=42)\n",
        "\n",
        "categorical_cols = X_train.select_dtypes(include=['object']).columns\n",
        "# Normalizamos los datos para mejorar el rendimiento de algunos modelos\n",
        "# One-hot encode categorical features\n",
        "X_train = pd.get_dummies(X_train, columns=categorical_cols, drop_first=True)\n",
        "X_test = pd.get_dummies(X_test, columns=categorical_cols, drop_first=True)\n",
        "\n",
        "# Align columns between train and test sets\n",
        "X_train, X_test = X_train.align(X_test, join='left', axis=1, fill_value=0)\n",
        "\n",
        "# Now apply StandardScaler\n",
        "scaler = StandardScaler()\n",
        "X_train = scaler.fit_transform(X_train)\n",
        "X_test = scaler.transform(X_test)\n",
        "\n"
      ],
      "metadata": {
        "id": "aX72BGUP_eSi"
      },
      "execution_count": null,
      "outputs": []
    },
    {
      "cell_type": "code",
      "source": [
        "# Crear el modelo de Regresión Logística\n",
        "log_reg = LogisticRegression(max_iter=1000)\n",
        "log_reg.fit(X_train, y_train)\n",
        "\n",
        "# Predicciones\n",
        "y_pred_log = log_reg.predict(X_test)\n"
      ],
      "metadata": {
        "id": "kXrwK0LaAsOn"
      },
      "execution_count": null,
      "outputs": []
    },
    {
      "cell_type": "code",
      "source": [
        "# Crear el modelo de Árbol de Decisión\n",
        "tree_clf = DecisionTreeClassifier(random_state=42)\n",
        "tree_clf.fit(X_train, y_train)\n",
        "\n",
        "# Predicciones\n",
        "y_pred_tree = tree_clf.predict(X_test)\n"
      ],
      "metadata": {
        "id": "HcDaYuogAsF0"
      },
      "execution_count": null,
      "outputs": []
    },
    {
      "cell_type": "code",
      "source": [
        "# Crear el modelo de Random Forest\n",
        "forest_clf = RandomForestClassifier(random_state=42, n_estimators=100)\n",
        "forest_clf.fit(X_train, y_train)\n",
        "\n",
        "# Predicciones\n",
        "y_pred_forest = forest_clf.predict(X_test)\n"
      ],
      "metadata": {
        "id": "TVgVat4vAr8k"
      },
      "execution_count": null,
      "outputs": []
    },
    {
      "cell_type": "code",
      "source": [
        "from sklearn.metrics import accuracy_score, recall_score, f1_score\n",
        "\n",
        "# Función para mostrar el reporte de métricas\n",
        "def mostrar_metricas(model_name, y_test, y_pred):\n",
        "    print(f\"Modelo: {model_name}\")\n",
        "    print(f\"Precisión: {accuracy_score(y_test, y_pred):.2f}\")\n",
        "    print(f\"Recall: {recall_score(y_test, y_pred):.2f}\")\n",
        "    print(f\"F1-Score: {f1_score(y_test, y_pred):.2f}\")\n",
        "    print(classification_report(y_test, y_pred))\n",
        "    print(confusion_matrix(y_test, y_pred))\n",
        "\n",
        "# Métricas para Regresión Logística\n",
        "mostrar_metricas(\"Regresión Logística\", y_test, y_pred_log)\n",
        "\n",
        "# Métricas para Árbol de Decisión\n",
        "mostrar_metricas(\"Árbol de Decisión\", y_test, y_pred_tree)\n",
        "\n",
        "# Métricas para Random Forest\n",
        "mostrar_metricas(\"Random Forest\", y_test, y_pred_forest)\n",
        "\n"
      ],
      "metadata": {
        "colab": {
          "base_uri": "https://localhost:8080/"
        },
        "id": "A2dGSdLlArnw",
        "outputId": "4f755304-881a-44e8-f90d-621d48b3ab4d"
      },
      "execution_count": null,
      "outputs": [
        {
          "output_type": "stream",
          "name": "stdout",
          "text": [
            "Modelo: Regresión Logística\n",
            "Precisión: 0.89\n",
            "Recall: 0.68\n",
            "F1-Score: 0.68\n",
            "              precision    recall  f1-score   support\n",
            "\n",
            "           0       0.93      0.94      0.93      1389\n",
            "           1       0.69      0.68      0.68       287\n",
            "\n",
            "    accuracy                           0.89      1676\n",
            "   macro avg       0.81      0.81      0.81      1676\n",
            "weighted avg       0.89      0.89      0.89      1676\n",
            "\n",
            "[[1300   89]\n",
            " [  92  195]]\n",
            "Modelo: Árbol de Decisión\n",
            "Precisión: 1.00\n",
            "Recall: 1.00\n",
            "F1-Score: 1.00\n",
            "              precision    recall  f1-score   support\n",
            "\n",
            "           0       1.00      1.00      1.00      1389\n",
            "           1       1.00      1.00      1.00       287\n",
            "\n",
            "    accuracy                           1.00      1676\n",
            "   macro avg       1.00      1.00      1.00      1676\n",
            "weighted avg       1.00      1.00      1.00      1676\n",
            "\n",
            "[[1389    0]\n",
            " [   0  287]]\n",
            "Modelo: Random Forest\n",
            "Precisión: 0.88\n",
            "Recall: 0.31\n",
            "F1-Score: 0.47\n",
            "              precision    recall  f1-score   support\n",
            "\n",
            "           0       0.87      1.00      0.93      1389\n",
            "           1       1.00      0.31      0.47       287\n",
            "\n",
            "    accuracy                           0.88      1676\n",
            "   macro avg       0.94      0.65      0.70      1676\n",
            "weighted avg       0.90      0.88      0.85      1676\n",
            "\n",
            "[[1389    0]\n",
            " [ 199   88]]\n"
          ]
        }
      ]
    },
    {
      "cell_type": "markdown",
      "source": [],
      "metadata": {
        "id": "bGy76cQ8vECG"
      }
    },
    {
      "cell_type": "code",
      "source": [
        "def plot_roc_curve(y_test, y_pred_prob, model_name):\n",
        "    fpr, tpr, _ = roc_curve(y_test, y_pred_prob)\n",
        "    roc_auc = auc(fpr, tpr)\n",
        "    plt.plot(fpr, tpr, label=f'{model_name} (AUC = {roc_auc:.2f})')\n",
        "\n",
        "plt.figure(figsize=(10, 6))\n",
        "\n",
        "# Regresión Logística\n",
        "plot_roc_curve(y_test, log_reg.predict_proba(X_test)[:, 1], \"Regresión Logística\")\n",
        "\n",
        "# Árbol de Decisión\n",
        "plot_roc_curve(y_test, tree_clf.predict_proba(X_test)[:, 1], \"Árbol de Decisión\")\n",
        "\n",
        "# Random Forest\n",
        "plot_roc_curve(y_test, forest_clf.predict_proba(X_test)[:, 1], \"Random Forest\")\n",
        "\n",
        "plt.plot([0, 1], [0, 1], 'k--')\n",
        "plt.xlabel('Tasa de Falsos Positivos')\n",
        "plt.ylabel('Tasa de Verdaderos Positivos')\n",
        "plt.title('Curva ROC para los Modelos')\n",
        "plt.legend(loc='best')\n",
        "plt.show()\n"
      ],
      "metadata": {
        "colab": {
          "base_uri": "https://localhost:8080/",
          "height": 564
        },
        "id": "xtqp45v0eA8O",
        "outputId": "608bb0e5-43bf-4425-fd3a-356b490d2290"
      },
      "execution_count": null,
      "outputs": [
        {
          "output_type": "display_data",
          "data": {
            "text/plain": [
              "<Figure size 1000x600 with 1 Axes>"
            ],
            "image/png": "[encoded data removed]"
          },
          "metadata": {}
        }
      ]
    },
    {
      "cell_type": "markdown",
      "source": [
        "#e) Evaluación de modelos"
      ],
      "metadata": {
        "id": "LSZbhlF3e5gw"
      }
    },
    {
      "cell_type": "markdown",
      "source": [],
      "metadata": {
        "id": "93nIUEVZu9nL"
      }
    },
    {
      "cell_type": "code",
      "source": [
        "\n",
        "def plot_roc_curve(y_test, y_pred_prob, model_name):\n",
        "    fpr, tpr, _ = roc_curve(y_test, y_pred_prob)\n",
        "    roc_auc = auc(fpr, tpr)\n",
        "    plt.plot(fpr, tpr, label=f'{model_name} (AUC = {roc_auc:.2f})')\n",
        "\n",
        "# Graficar las curvas ROC\n",
        "plt.figure(figsize=(10, 6))\n",
        "\n",
        "# Regresión Logística\n",
        "plot_roc_curve(y_test, log_reg.predict_proba(X_test)[:, 1], \"Regresión Logística\")\n",
        "\n",
        "# Árbol de Decisión\n",
        "plot_roc_curve(y_test, tree_clf.predict_proba(X_test)[:, 1], \"Árbol de Decisión\")\n",
        "\n",
        "# Random Forest\n",
        "plot_roc_curve(y_test, forest_clf.predict_proba(X_test)[:, 1], \"Random Forest\")\n",
        "\n",
        "# Línea de referencia (diagonal)\n",
        "plt.plot([0, 1], [0, 1], 'k--')\n",
        "plt.xlabel('Tasa de Falsos Positivos')\n",
        "plt.ylabel('Tasa de Verdaderos Positivos')\n",
        "plt.title('Curva ROC para los Modelos')\n",
        "plt.legend(loc='best')\n",
        "plt.show()\n",
        "\n"
      ],
      "metadata": {
        "id": "zQaFN4LzgSSY",
        "colab": {
          "base_uri": "https://localhost:8080/",
          "height": 564
        },
        "outputId": "a864460a-d1c8-42b3-bff2-00472196132d"
      },
      "execution_count": null,
      "outputs": [
        {
          "output_type": "display_data",
          "data": {
            "text/plain": [
              "<Figure size 1000x600 with 1 Axes>"
            ],
            "image/png": "[encoded data removed]"
          },
          "metadata": {}
        }
      ]
    },
    {
      "cell_type": "markdown",
      "source": [],
      "metadata": {
        "id": "m4BospbPu-jv"
      }
    },
    {
      "cell_type": "code",
      "source": [
        "from sklearn.metrics import accuracy_score, recall_score, f1_score, classification_report, confusion_matrix\n",
        "\n",
        "def mostrar_metricas(model_name, y_test, y_pred):\n",
        "    print(f\"--- Modelo: {model_name} ---\")\n",
        "    print(f\"Precisión: {accuracy_score(y_test, y_pred):.2f}\")\n",
        "    print(f\"Recall: {recall_score(y_test, y_pred):.2f}\")\n",
        "    print(f\"F1-Score: {f1_score(y_test, y_pred):.2f}\")\n",
        "    print(\"\\nReporte de Clasificación:\")\n",
        "    print(classification_report(y_test, y_pred))\n",
        "    print(\"\\nMatriz de Confusión:\")\n",
        "    print(confusion_matrix(y_test, y_pred))\n",
        "    print(\"\\n\")\n",
        "\n",
        "# Métricas para Regresión Logística\n",
        "y_pred_log = log_reg.predict(X_test)\n",
        "mostrar_metricas(\"Regresión Logística\", y_test, y_pred_log)\n",
        "\n",
        "# Métricas para Árbol de Decisión\n",
        "y_pred_tree = tree_clf.predict(X_test)\n",
        "mostrar_metricas(\"Árbol de Decisión\", y_test, y_pred_tree)\n",
        "\n",
        "# Métricas para Random Forest\n",
        "y_pred_forest = forest_clf.predict(X_test)\n",
        "mostrar_metricas(\"Random Forest\", y_test, y_pred_forest)\n",
        "\n"
      ],
      "metadata": {
        "colab": {
          "base_uri": "https://localhost:8080/"
        },
        "id": "kqzo0P1Cue2G",
        "outputId": "03f09a5a-67d0-45a1-8006-3cc1a0aeb3e6"
      },
      "execution_count": null,
      "outputs": [
        {
          "output_type": "stream",
          "name": "stdout",
          "text": [
            "--- Modelo: Regresión Logística ---\n",
            "Precisión: 0.89\n",
            "Recall: 0.68\n",
            "F1-Score: 0.68\n",
            "\n",
            "Reporte de Clasificación:\n",
            "              precision    recall  f1-score   support\n",
            "\n",
            "           0       0.93      0.94      0.93      1389\n",
            "           1       0.69      0.68      0.68       287\n",
            "\n",
            "    accuracy                           0.89      1676\n",
            "   macro avg       0.81      0.81      0.81      1676\n",
            "weighted avg       0.89      0.89      0.89      1676\n",
            "\n",
            "\n",
            "Matriz de Confusión:\n",
            "[[1300   89]\n",
            " [  92  195]]\n",
            "\n",
            "\n",
            "--- Modelo: Árbol de Decisión ---\n",
            "Precisión: 1.00\n",
            "Recall: 1.00\n",
            "F1-Score: 1.00\n",
            "\n",
            "Reporte de Clasificación:\n",
            "              precision    recall  f1-score   support\n",
            "\n",
            "           0       1.00      1.00      1.00      1389\n",
            "           1       1.00      1.00      1.00       287\n",
            "\n",
            "    accuracy                           1.00      1676\n",
            "   macro avg       1.00      1.00      1.00      1676\n",
            "weighted avg       1.00      1.00      1.00      1676\n",
            "\n",
            "\n",
            "Matriz de Confusión:\n",
            "[[1389    0]\n",
            " [   0  287]]\n",
            "\n",
            "\n",
            "--- Modelo: Random Forest ---\n",
            "Precisión: 0.88\n",
            "Recall: 0.31\n",
            "F1-Score: 0.47\n",
            "\n",
            "Reporte de Clasificación:\n",
            "              precision    recall  f1-score   support\n",
            "\n",
            "           0       0.87      1.00      0.93      1389\n",
            "           1       1.00      0.31      0.47       287\n",
            "\n",
            "    accuracy                           0.88      1676\n",
            "   macro avg       0.94      0.65      0.70      1676\n",
            "weighted avg       0.90      0.88      0.85      1676\n",
            "\n",
            "\n",
            "Matriz de Confusión:\n",
            "[[1389    0]\n",
            " [ 199   88]]\n",
            "\n",
            "\n"
          ]
        }
      ]
    },
    {
      "cell_type": "markdown",
      "source": [
        "#f) Predicciones"
      ],
      "metadata": {
        "id": "2NBkulkbu3r2"
      }
    },
    {
      "source": [
        "import pandas as pd\n",
        "import numpy as np\n",
        "from sklearn.ensemble import RandomForestClassifier\n",
        "from sklearn.model_selection import train_test_split\n",
        "from sklearn.preprocessing import LabelEncoder\n",
        "\n",
        "\n",
        "\n",
        "# Separate features (X) and target (y)\n",
        "X = df.drop(columns=['match'])\n",
        "y = df['match']\n",
        "\n",
        "# Identify categorical features (columns with object or string dtype)\n",
        "categorical_features = X.select_dtypes(include=['object', 'string']).columns\n",
        "\n",
        "# Create a LabelEncoder for each categorical feature\n",
        "encoders = {}\n",
        "for feature in categorical_features:\n",
        "    encoders[feature] = LabelEncoder()\n",
        "    # Convert the column to string before encoding to ensure uniform data type\n",
        "    X[feature] = X[feature].astype(str)  # This line is added to fix the error\n",
        "    # Fit and transform the data using the encoder\n",
        "    X[feature] = encoders[feature].fit_transform(X[feature])\n",
        "\n",
        "# Split data into training and testing sets\n",
        "X_train, X_test, y_train, y_test = train_test_split(X, y, test_size=0.3, random_state=42)\n",
        "\n",
        "# Initialize and train the model\n",
        "mejor_modelo = RandomForestClassifier(n_estimators=100, random_state=42)\n",
        "mejor_modelo.fit(X_train, y_train)\n",
        "\n",
        "# Calcular la importancia de las características\n",
        "importancia_caracteristicas = mejor_modelo.feature_importances_\n",
        "indices_importancia = np.argsort(importancia_caracteristicas)[::-1]\n",
        "\n",
        "# Obtener los nombres de las características importantes\n",
        "caracteristicas_importantes = X.columns[indices_importancia]\n",
        "importancia_ordenada = importancia_caracteristicas[indices_importancia]\n",
        "\n",
        "# Mostrar las características con su importancia\n",
        "for i, (caracteristica, importancia) in enumerate(zip(caracteristicas_importantes, importancia_ordenada), 1):\n",
        "    print(f\"{i}. {caracteristica}: {importancia:.4f}\")"
      ],
      "cell_type": "code",
      "metadata": {
        "colab": {
          "base_uri": "https://localhost:8080/"
        },
        "id": "_eQF0l8KctNq",
        "outputId": "3a43e3b7-b47a-42ce-8bd8-5892efc6dfc5"
      },
      "execution_count": null,
      "outputs": [
        {
          "output_type": "stream",
          "name": "stdout",
          "text": [
            "1. decision_o: 0.2320\n",
            "2. decision: 0.1966\n",
            "3. attractive_o: 0.0239\n",
            "4. like: 0.0206\n",
            "5. d_like: 0.0205\n",
            "6. d_attractive_o: 0.0183\n",
            "7. d_attractive_partner: 0.0159\n",
            "8. d_shared_interests_o: 0.0153\n",
            "9. d_funny_o: 0.0145\n",
            "10. attractive_partner: 0.0136\n",
            "11. d_shared_interests_partner: 0.0121\n",
            "12. funny_o: 0.0114\n",
            "13. shared_interests_o: 0.0113\n",
            "14. d_guess_prob_liked: 0.0112\n",
            "15. funny_partner: 0.0109\n",
            "16. id: 0.0104\n",
            "17. d_funny_partner: 0.0098\n",
            "18. expected_num_matches: 0.0097\n",
            "19. interests_correlate: 0.0086\n",
            "20. guess_prob_liked: 0.0080\n",
            "21. field: 0.0074\n",
            "22. shared_interests_partner: 0.0069\n",
            "23. pref_o_attractive: 0.0065\n",
            "24. pref_o_sincere: 0.0065\n",
            "25. pref_o_intelligence: 0.0062\n",
            "26. pref_o_funny: 0.0061\n",
            "27. age_o: 0.0058\n",
            "28. pref_o_shared_interests: 0.0058\n",
            "29. shared_interests_important: 0.0058\n",
            "30. d_age: 0.0057\n",
            "31. pref_o_ambitious: 0.0057\n",
            "32. attractive_important: 0.0056\n",
            "33. intellicence_important: 0.0056\n",
            "34. sincere_important: 0.0050\n",
            "35. funny_important: 0.0048\n",
            "36. ambtition_important: 0.0048\n",
            "37. ambitous_o: 0.0047\n",
            "38. wave: 0.0047\n",
            "39. age: 0.0047\n",
            "40. tv: 0.0046\n",
            "41. intelligence_partner: 0.0046\n",
            "42. museums: 0.0046\n",
            "43. hiking: 0.0045\n",
            "44. shopping: 0.0043\n",
            "45. ambition_partner: 0.0043\n",
            "46. tvsports: 0.0043\n",
            "47. sinsere_o: 0.0043\n",
            "48. importance_same_race: 0.0042\n",
            "49. d_intelligence_o: 0.0042\n",
            "50. sincere_partner: 0.0042\n",
            "51. theater: 0.0041\n",
            "52. music: 0.0041\n",
            "53. art: 0.0040\n",
            "54. intelligence_o: 0.0040\n",
            "55. exercise: 0.0039\n",
            "56. clubbing: 0.0039\n",
            "57. attractive: 0.0039\n",
            "58. sports: 0.0038\n",
            "59. gaming: 0.0038\n",
            "60. concerts: 0.0037\n",
            "61. expected_happy_with_sd_people: 0.0037\n",
            "62. yoga: 0.0036\n",
            "63. importance_same_religion: 0.0036\n",
            "64. ambition: 0.0034\n",
            "65. race_o: 0.0033\n",
            "66. dining: 0.0033\n",
            "67. sincere: 0.0032\n",
            "68. d_intelligence_partner: 0.0031\n",
            "69. movies: 0.0031\n",
            "70. d_sincere_partner: 0.0030\n",
            "71. d_sinsere_o: 0.0030\n",
            "72. d_expected_num_matches: 0.0029\n",
            "73. race: 0.0029\n",
            "74. reading: 0.0028\n",
            "75. d_ambition_partner: 0.0028\n",
            "76. d_d_age: 0.0027\n",
            "77. intelligence: 0.0027\n",
            "78. funny: 0.0026\n",
            "79. met: 0.0026\n",
            "80. d_pref_o_intelligence: 0.0024\n",
            "81. d_ambitous_o: 0.0023\n",
            "82. d_pref_o_sincere: 0.0023\n",
            "83. d_pref_o_attractive: 0.0022\n",
            "84. d_concerts: 0.0022\n",
            "85. d_intellicence_important: 0.0021\n",
            "86. expected_num_interested_in_me: 0.0020\n",
            "87. d_pref_o_funny: 0.0020\n",
            "88. d_interests_correlate: 0.0020\n",
            "89. d_exercise: 0.0019\n",
            "90. gender: 0.0019\n",
            "91. d_pref_o_shared_interests: 0.0019\n",
            "92. d_importance_same_race: 0.0018\n",
            "93. d_attractive: 0.0018\n",
            "94. d_expected_happy_with_sd_people: 0.0018\n",
            "95. d_music: 0.0017\n",
            "96. d_clubbing: 0.0017\n",
            "97. d_movies: 0.0017\n",
            "98. d_shopping: 0.0017\n",
            "99. d_intelligence: 0.0017\n",
            "100. d_tvsports: 0.0017\n",
            "101. d_ambition: 0.0016\n",
            "102. d_hiking: 0.0016\n",
            "103. d_theater: 0.0016\n",
            "104. d_dining: 0.0016\n",
            "105. d_sincere: 0.0015\n",
            "106. d_importance_same_religion: 0.0015\n",
            "107. d_yoga: 0.0015\n",
            "108. d_sincere_important: 0.0015\n",
            "109. d_funny_important: 0.0015\n",
            "110. d_tv: 0.0015\n",
            "111. d_ambtition_important: 0.0014\n",
            "112. d_gaming: 0.0014\n",
            "113. d_sports: 0.0014\n",
            "114. d_museums: 0.0013\n",
            "115. d_pref_o_ambitious: 0.0013\n",
            "116. d_funny: 0.0013\n",
            "117. d_reading: 0.0013\n",
            "118. d_attractive_important: 0.0012\n",
            "119. samerace: 0.0012\n",
            "120. d_shared_interests_important: 0.0012\n",
            "121. d_art: 0.0011\n",
            "122. d_expected_num_interested_in_me: 0.0008\n",
            "123. has_null: 0.0004\n"
          ]
        }
      ]
    },
    {
      "cell_type": "markdown",
      "source": [],
      "metadata": {
        "id": "KXnnZWrvdE5u"
      }
    },
    {
      "cell_type": "code",
      "source": [
        "# Supongamos que el mejor modelo es llamado 'mejor_modelo'\n",
        "# Realizar predicciones sobre el conjunto de prueba\n",
        "y_pred = mejor_modelo.predict(X_test)\n"
      ],
      "metadata": {
        "id": "KGwvXoFjulWm"
      },
      "execution_count": null,
      "outputs": []
    },
    {
      "cell_type": "code",
      "source": [
        "from sklearn.metrics import classification_report, confusion_matrix, accuracy_score\n",
        "\n",
        "# Mostrar métricas de evaluación\n",
        "print(\"Reporte de clasificación:\")\n",
        "print(classification_report(y_test, y_pred))\n",
        "\n",
        "# Matriz de confusión\n",
        "print(\"Matriz de confusión:\")\n",
        "print(confusion_matrix(y_test, y_pred))\n",
        "\n",
        "# Precisión del modelo\n",
        "print(\"Precisión:\", accuracy_score(y_test, y_pred))\n"
      ],
      "metadata": {
        "colab": {
          "base_uri": "https://localhost:8080/"
        },
        "id": "J9DlLKKZu1_Q",
        "outputId": "37388151-955c-47ce-8bd7-e103ffd742cd"
      },
      "execution_count": null,
      "outputs": [
        {
          "output_type": "stream",
          "name": "stdout",
          "text": [
            "Reporte de clasificación:\n",
            "              precision    recall  f1-score   support\n",
            "\n",
            "           0       0.99      1.00      0.99      2106\n",
            "           1       1.00      0.94      0.97       408\n",
            "\n",
            "    accuracy                           0.99      2514\n",
            "   macro avg       0.99      0.97      0.98      2514\n",
            "weighted avg       0.99      0.99      0.99      2514\n",
            "\n",
            "Matriz de confusión:\n",
            "[[2106    0]\n",
            " [  25  383]]\n",
            "Precisión: 0.9900556881463802\n"
          ]
        }
      ]
    },
    {
      "cell_type": "code",
      "source": [
        "import matplotlib.pyplot as plt\n",
        "import seaborn as sns\n",
        "\n",
        "# Gráfico de barras para mostrar la importancia de las características\n",
        "feature_importance = mejor_modelo.feature_importances_\n",
        "features = X_train.columns\n",
        "sorted_idx = feature_importance.argsort()[-10:]\n",
        "\n",
        "plt.figure(figsize=(10, 8))\n",
        "plt.barh(range(len(sorted_idx)), feature_importance[sorted_idx], align='center')\n",
        "plt.yticks(range(len(sorted_idx)), [features[i] for i in sorted_idx])\n",
        "plt.xlabel(\"Importancia de la característica\")\n",
        "plt.title(\"Top 10 características más importantes en la predicción del match\")\n",
        "plt.show()\n"
      ],
      "metadata": {
        "colab": {
          "base_uri": "https://localhost:8080/",
          "height": 709
        },
        "id": "xJvnTHGUu7P5",
        "outputId": "f5c9e984-a3aa-4c71-9a25-33dd144f7ae1"
      },
      "execution_count": null,
      "outputs": [
        {
          "output_type": "display_data",
          "data": {
            "text/plain": [
              "<Figure size 1000x800 with 1 Axes>"
            ],
            "image/png": "[encoded data removed]"
          },
          "metadata": {}
        }
      ]
    },
    {
      "cell_type": "markdown",
      "source": [
        "El análisis de factores en el modelo de predicción de compatibilidad revela que las decisiones de los participantes son las más influyentes en el éxito de un encuentro. Las elecciones sobre parejas (\"decision_o\" y \"decision\") superan notablemente a otros factores.\n",
        "\n",
        "Los atributos de atracción física (\"attractive_o\") y los niveles de afinidad (\"like\" y \"d_like\") también son relevantes, así como la compatibilidad en intereses y diversión. A diferencia de aspectos como la edad o la religión, que tienen menor impacto, la percepción de la atracción y las decisiones explícitas son cruciales.\n",
        "\n",
        "Con los datos obtenidos se recomendaciones de compatibilidad, se debe priorizar estas variables clave, sin ignorar otros factores menos evidentes que también influyen en el éxito de un match."
      ],
      "metadata": {
        "id": "EmvJNbDEvQKs"
      }
    },
    {
      "cell_type": "markdown",
      "source": [
        "#g)Preguntas"
      ],
      "metadata": {
        "id": "8GtkDBH0c-bj"
      }
    },
    {
      "cell_type": "markdown",
      "source": [
        "Conclusiones sobre los métodos utilizados:\n",
        "\n",
        "Los métodos de clasificación aplicados permitieron identificar patrones en los datos y establecer relaciones entre las características de los participantes y la probabilidad de un match. Los modelos variaron en su efectividad, sugiriendo que es crucial seleccionar el algoritmo adecuado para el tipo de datos.\n",
        "\n",
        "Recomendación de uso de un algoritmo:\n",
        "\n",
        "Recomendaría el Random Forest Classifier, ya que es robusto frente a la complejidad de los datos y maneja bien los valores atípicos. Su capacidad para realizar selección de características mejora la interpretabilidad del modelo.\n",
        "\n",
        "Mejor rendimiento según métricas:\n",
        "\n",
        "El algoritmo que mostró el mejor rendimiento fue AdaBoostClassifier, que alcanzó altos índices de precisión y recall, indicando su eficacia en la predicción de matches. Al ser un meta-algoritmo, combina múltiples clasificadores, mejorando el rendimiento general.\n",
        "\n",
        "Impacto del ajuste de hiperparámetros:\n",
        "\n",
        "El ajuste de hiperparámetros mejoró significativamente el rendimiento de los modelos, optimizando la precisión y reduciendo el overfitting. Por ejemplo, ajustar la profundidad de los árboles en el Random Forest resultó en una mejor generalización en los datos de prueba.\n",
        "\n",
        "Ventaja de algoritmos de clasificación:\n",
        "\n",
        "La ventaja principal es la capacidad de los algoritmos de clasificación para manejar grandes volúmenes de datos y encontrar patrones complejos que los métodos tradicionales no pueden identificar. Esto permite realizar predicciones más precisas, basadas en datos en lugar de suposiciones.\n"
      ],
      "metadata": {
        "id": "l_MvAdmedJ6-"
      }
    },
    {
      "cell_type": "markdown",
      "source": [
        "#Conclusiones"
      ],
      "metadata": {
        "id": "NZ3S-CImXAdT"
      }
    },
    {
      "cell_type": "markdown",
      "source": [
        "##a. Comparación de los resultados obtenidos entre los diferentes algoritmos de clasificación aplicados en el análisis de la compatibilidad entre los participantes.\n"
      ],
      "metadata": {
        "id": "H8pZ8sslXEcQ"
      }
    },
    {
      "cell_type": "markdown",
      "source": [
        "###K-Nearest Neighbors (KNN):\n",
        "Obtuvo una precisión del 79%, con un buen rendimiento en la predicción de la clase 0 (no match), pero tuvo un desempeño limitado en la predicción de la clase 1 (match). Su recall para la clase 1 fue de solo (0.14), indicando que el modelo no detecto bien los matches."
      ],
      "metadata": {
        "id": "Nyw2P78KXTQj"
      }
    },
    {
      "cell_type": "markdown",
      "source": [
        "###Random Forest:\n",
        "Mejoro en rendimiento en comparación con KNN, alcanzando una precisión general del 81%. Si bien su precisión para la clase 1 fue mejor que la de KNN (0.54), su recall para esta clase siguió siendo bajo (0.14), lo que indica que aún tenía problemas para identificar correctamente los matches."
      ],
      "metadata": {
        "id": "cpKRQBA9YbBq"
      }
    },
    {
      "cell_type": "markdown",
      "source": [
        "###Logistic Regression:\n",
        "Este algoritmo fue el mas problemático. No pudo predecir correctamente ningún match, con un recall de 0.0 para la clase 1. Aunque su precisión general fue del 81%, fue incapaz de identificar matches correctamente, lo que hace lo inadecuado para este tipo de datos sin ajustes adicionales."
      ],
      "metadata": {
        "id": "VBR5dNEOYge-"
      }
    },
    {
      "cell_type": "markdown",
      "source": [
        "##b. Discusión sobre la efectividad de los modelos de clasificación para predecir las decisiones en comparación con las predicciones esperadas."
      ],
      "metadata": {
        "id": "bLRAIfMgZWz5"
      }
    },
    {
      "cell_type": "markdown",
      "source": [
        "En terminos de efectividad, Random Forest fue el modelo más balanceado entre precisión y recall, pero seguía teniendo problemas con el desbalance de clases, ya que la clase 1 es minoritaria.\n",
        "KNN aunque mostró precisión aceptable para la clase 0, también sufrio al predecir correctamente los matches.\n",
        "Logistic Regression, en su forma básica, no logró captar ningún match, lo que sugiere que no es adecuado para este conjunto de datos sin modificaciones.\n",
        "\n",
        "Es importante destacar que  el ajuste de los hiperparámetros mejoró significativamente el rendimiento de los modelos, especialmente en Random Forest, donde un ajuste adecuado de la profunidad de los árboles y otro parámetros ayudó a reducir el overfitting y mejorar la generalización del modelo. El uso de técnicas como Grid Search o Radom Search fue clave para encontrar los mejores hiperparámetros y mejorar el rendimiento general."
      ],
      "metadata": {
        "id": "SgY9a0-9avL7"
      }
    },
    {
      "cell_type": "markdown",
      "source": [
        "##c. Reflexión sobre qué enfoques resultaron más adecuados en función del contexto del análisis y cómo podrían mejorar las predicciones si se incorporan más variables o diferentes técnicas.\n"
      ],
      "metadata": {
        "id": "BK0OstA5dNBu"
      }
    },
    {
      "cell_type": "markdown",
      "source": [
        "**Enfoques más adecuados:** Random Forest resultó ser el modelo más robusto en este contexto, gracias a su capacidad para manejar datos complejos y seleccionar características relevantes automáticamente. Aunque no alcanzó el recall deseado para la clase 1, su precisión general y capacidad para manejar variables atípicas lo hacen adecuado para el análisis de compatibilidad entre los participantes.\n",
        "\n",
        "**Mejoras con más variables:** Incluir más variables podría mejorar el rendimiento del modelo, especialmente si se utilizan características adicionales que capturen mejor la interacción social, la compatibilidad en preferencias, o incluso aspectos emocionales durante las citas rápidas. Algunas de las variables más importantes que podrían mejorar el rendimiento son \"decision_o\" (la decisión de la otra persona) y \"like\" (evaluación de cuánto gustó el otro participante).\n",
        "\n",
        "**Otras técnicas:** Podrían aplicarse técnicas para manejar el desbalance de clases, como SMOTE para generar más ejemplos de la clase 1 (match). También se podría probar con meta-algoritmos como AdaBoost, que combinan varios clasificadores, mejorando el rendimiento global y permitiendo al modelo aprender de los errores de predicción."
      ],
      "metadata": {
        "id": "8UrqlFwQeHFi"
      }
    }
  ]
}